{
 "cells": [
  {
   "cell_type": "code",
   "execution_count": null,
   "metadata": {},
   "outputs": [],
   "source": [
    "# carregando as bibliotecas utilizadas\n",
    "\n",
    "# Imports para manipulação de dados\n",
    "import numpy as np\n",
    "import pandas as pd\n",
    "import itertools\n",
    "\n",
    "# Imports para visualização de dados\n",
    "import matplotlib.pyplot as plt\n",
    "import matplotlib as m\n",
    "import seaborn as sns\n",
    "import plotly as py\n",
    "import cufflinks as cf\n",
    "import plotly.express as px\n",
    "import plotly.graph_objs as go \n",
    "from plotly.offline import download_plotlyjs, init_notebook_mode, plot, iplot\n",
    "\n",
    "# Imports para modelagem preditiva\n",
    "import statsmodels\n",
    "import statsmodels.api as sm\n",
    "import statsmodels.tsa.api as smt\n",
    "import statsmodels.stats as sms\n",
    "import pmdarima as pm\n",
    "from pandas.plotting import autocorrelation_plot\n",
    "from scipy.stats import boxcox\n",
    "from statsmodels.graphics import tsaplots\n",
    "from statsmodels.tsa.seasonal import seasonal_decompose\n",
    "from statsmodels.tsa.stattools import adfuller\n",
    "from statsmodels.tsa.arima_model import ARIMA\n",
    "from statsmodels.stats.stattools import jarque_bera\n",
    "from statsmodels.graphics.tsaplots import plot_acf\n",
    "from statsmodels.graphics.tsaplots import plot_pacf\n",
    "from sklearn.metrics import mean_squared_error, mean_absolute_error\n",
    "\n",
    "# Imports para métricas e performance do modelo\n",
    "import math\n",
    "from math import sqrt \n",
    "import sklearn\n",
    "from sklearn.metrics import mean_squared_error \n",
    "\n",
    "# Filtrando os avisos\n",
    "import sys\n",
    "import warnings\n",
    "warnings.filterwarnings(\"ignore\")\n",
    "\n",
    "# Configurando o estilo de gráfico utilizado\n",
    "%matplotlib inline\n",
    "plt.rcParams[\"figure.figsize\"] = 20, 10\n",
    "plt.style.use('fivethirtyeight')"
   ]
  },
  {
   "cell_type": "code",
   "execution_count": null,
   "metadata": {},
   "outputs": [],
   "source": [
    "# Carrega as séries históricas de preços do Boi Gordo-SP e Bezerro-MS\n",
    "bg = pd.read_csv('Boi-Gordo-SP-B3.csv', header=3)\n",
    "bz = pd.read_csv('Bezerro-MS.csv', header=3)"
   ]
  },
  {
   "cell_type": "code",
   "execution_count": null,
   "metadata": {},
   "outputs": [],
   "source": [
    "bg.head()"
   ]
  },
  {
   "cell_type": "code",
   "execution_count": null,
   "metadata": {},
   "outputs": [],
   "source": [
    "bz.head()"
   ]
  },
  {
   "cell_type": "code",
   "execution_count": null,
   "metadata": {},
   "outputs": [],
   "source": [
    "bg.info()"
   ]
  },
  {
   "cell_type": "code",
   "execution_count": null,
   "metadata": {},
   "outputs": [],
   "source": [
    "bz.info()"
   ]
  },
  {
   "cell_type": "code",
   "execution_count": null,
   "metadata": {},
   "outputs": [],
   "source": [
    "# Substituindo a virgulo por ponto das séries\n",
    "\n",
    "# Boi Gordo - SP\n",
    "bg['À vista R$'] = bg['À vista R$'].apply(lambda x: str(x).replace(',', '.'))\n",
    "bg['À vista R$'] = bg['À vista R$'].astype('float64')\n",
    "\n",
    "# Bezerro - MS\n",
    "bz['À vista R$'] = bz['À vista R$'].apply(lambda x: str(x).replace(',', '.'))\n",
    "bz['À vista R$'] = bz['À vista R$'].astype('float64')"
   ]
  },
  {
   "cell_type": "code",
   "execution_count": null,
   "metadata": {},
   "outputs": [],
   "source": [
    "# Alterando o tipo do índice\n",
    "\n",
    "# Boi Gordo - SP\n",
    "bg['Data'] = pd.to_datetime(bg['Data'], infer_datetime_format=True)\n",
    "\n",
    "# Bezerro - MS\n",
    "bz['Data'] = pd.to_datetime(bz['Data'], infer_datetime_format=True)"
   ]
  },
  {
   "cell_type": "code",
   "execution_count": null,
   "metadata": {},
   "outputs": [],
   "source": [
    "# Colocando a data como índice\n",
    "\n",
    "# Boi Gordo - SP\n",
    "bg = bg.set_index('Data')\n",
    "\n",
    "# Bezerro - MS\n",
    "bz = bz.set_index('Data')"
   ]
  },
  {
   "cell_type": "code",
   "execution_count": null,
   "metadata": {},
   "outputs": [],
   "source": [
    "# Excluindo valores em Dollar US$\n",
    "bg.drop('À vista US$', axis=1, inplace=True)\n",
    "bz.drop('À vista US$', axis=1, inplace=True)"
   ]
  },
  {
   "cell_type": "code",
   "execution_count": null,
   "metadata": {},
   "outputs": [],
   "source": [
    "# Evolução dos preços do Boi Gordo - SP\n",
    "fig = px.line(bg, x=bg.index, y='À vista R$', title='Evolução dos Preços do Boi Gordo - SP')\n",
    "fig.show()"
   ]
  },
  {
   "cell_type": "code",
   "execution_count": null,
   "metadata": {},
   "outputs": [],
   "source": [
    "bg = bg['À vista R$'].resample('M').mean()"
   ]
  },
  {
   "cell_type": "code",
   "execution_count": null,
   "metadata": {},
   "outputs": [],
   "source": [
    "# Evolução dos preços do Boi Gordo - SP\n",
    "fig = px.line(bg, x=bg.index, y='À vista R$', title='Evolução dos Preços do Boi Gordo - SP (Mensal)')\n",
    "fig.show()"
   ]
  },
  {
   "cell_type": "code",
   "execution_count": null,
   "metadata": {},
   "outputs": [],
   "source": [
    "from plotly.figure_factory import create_distplot\n",
    "\n",
    "fig = create_distplot([bg], ['Distribuição dos Preços Mensais'])\n",
    "fig.show()"
   ]
  },
  {
   "cell_type": "code",
   "execution_count": null,
   "metadata": {},
   "outputs": [],
   "source": [
    "from plotly.subplots import make_subplots\n",
    "\n",
    "fig = make_subplots(rows=1, cols=2)\n",
    "\n",
    "fig.add_trace(go.Box(y=bg), row=1, col=1)\n",
    "\n",
    "fig.add_trace(go.Violin(y=bg, box_visible=True), row=1, col=2)\n",
    "\n",
    "fig.show()"
   ]
  },
  {
   "cell_type": "code",
   "execution_count": null,
   "metadata": {},
   "outputs": [],
   "source": [
    "fig = px.box(bg, x=bg.index.year, y=bg)\n",
    "fig.show()"
   ]
  },
  {
   "cell_type": "code",
   "execution_count": null,
   "metadata": {},
   "outputs": [],
   "source": [
    "fig = px.box(bg, x=bg.index.month, y=bg)\n",
    "fig.show()"
   ]
  },
  {
   "cell_type": "code",
   "execution_count": null,
   "metadata": {},
   "outputs": [],
   "source": [
    "def series_decompose(serie):\n",
    "    \n",
    "    decomposition = seasonal_decompose(serie, period=12)\n",
    "    \n",
    "    fig = make_subplots(rows=3, cols=1)\n",
    "    \n",
    "    fig.append_trace(go.Scatter(x=serie.index, y=decomposition.trend, name='Tendência'), row=1, col=1)\n",
    "    fig.append_trace(go.Scatter(x=serie.index, y=decomposition.seasonal, name='Sazonalidade'), row=2, col=1)\n",
    "    fig.append_trace(go.Scatter(x=serie.index, y=decomposition.resid, name='Ruido'), row=3, col=1)\n",
    "    \n",
    "    fig.show()"
   ]
  },
  {
   "cell_type": "code",
   "execution_count": null,
   "metadata": {},
   "outputs": [],
   "source": [
    "series_decompose(bg)"
   ]
  },
  {
   "cell_type": "code",
   "execution_count": null,
   "metadata": {},
   "outputs": [],
   "source": [
    "def testa_estacionaridade(serie):\n",
    "    \n",
    "    # Calcula estatísticas móveis\n",
    "    rolmean = serie.rolling(window = 12).mean()\n",
    "    rolstd = serie.rolling(window = 12).std()\n",
    "\n",
    "    # Plot das estatísticas móveis\n",
    "    fig = go.Figure()\n",
    "    fig.add_trace(go.Scatter(x=serie.index, y=serie, mode='lines', name='Preços'))\n",
    "    fig.add_trace(go.Scatter(x=rolmean.index, y=rolmean, mode='lines', name='Média'))\n",
    "    fig.add_trace(go.Scatter(x=rolstd.index, y=rolstd, mode='lines', name='Desvio Padrão'))\n",
    "    fig.update_xaxes(rangeslider_visible=True)\n",
    "    fig.show()\n",
    "    \n",
    "    # Teste Dickey-Fuller:\n",
    "    # Print\n",
    "    print('\\nResultado do Teste Dickey-Fuller:\\n')\n",
    "\n",
    "    # Teste\n",
    "    dfteste = adfuller(serie, autolag = 'AIC')\n",
    "\n",
    "    # Formatando a saída\n",
    "    dfsaida = pd.Series(dfteste[0:4], index = ['Estatística do Teste',\n",
    "                                               'Valor-p',\n",
    "                                               'Número de Lags Consideradas',\n",
    "                                               'Número de Observações Usadas'])\n",
    "\n",
    "    # Loop por cada item da saída do teste\n",
    "    for key, value in dfteste[4].items():\n",
    "        dfsaida['Valor Crítico (%s)'%key] = value\n",
    "\n",
    "    # Print\n",
    "    print (dfsaida)\n",
    "    \n",
    "    # Testa o valor-p\n",
    "    print ('\\nConclusão:')\n",
    "    if dfsaida[1] > 0.05:\n",
    "        print('\\nO valor-p é maior que 0.05 e, portanto, não temos evidências para rejeitar a hipótese nula.')\n",
    "        print('Essa série provavelmente não é estacionária.')\n",
    "    else:\n",
    "        print('\\nO valor-p é menor que 0.05 e, portanto, temos evidências para rejeitar a hipótese nula.')\n",
    "        print('Essa série provavelmente é estacionária.')"
   ]
  },
  {
   "cell_type": "code",
   "execution_count": null,
   "metadata": {},
   "outputs": [],
   "source": [
    "testa_estacionaridade(bg)"
   ]
  },
  {
   "cell_type": "code",
   "execution_count": null,
   "metadata": {},
   "outputs": [],
   "source": [
    "autocorrelation_plot(bg)\n",
    "plt.show()"
   ]
  },
  {
   "cell_type": "code",
   "execution_count": null,
   "metadata": {},
   "outputs": [],
   "source": [
    "# Plot do gráfico ACF\n",
    "plt.subplot(211)\n",
    "plot_acf(bg, ax=plt.gca(), lags=50)\n",
    "\n",
    "# Plot do gráfico PACF\n",
    "plt.subplot(212)\n",
    "plot_pacf(bg, ax=plt.gca(), lags=50)\n",
    "\n",
    "# Mostra os gráficos\n",
    "plt.show()"
   ]
  },
  {
   "cell_type": "code",
   "execution_count": null,
   "metadata": {},
   "outputs": [],
   "source": [
    "bg.head()"
   ]
  },
  {
   "cell_type": "code",
   "execution_count": null,
   "metadata": {},
   "outputs": [],
   "source": [
    "bg_box, lam_value = boxcox(bg)\n",
    "print('Valor Ideal de Lambda: %f' % lam_value)\n",
    "bg_box = pd.Series(bg_box, index=bg.index)\n",
    "# Visualizando a transformação\n",
    "bg_box.head()"
   ]
  },
  {
   "cell_type": "code",
   "execution_count": null,
   "metadata": {},
   "outputs": [],
   "source": [
    "testa_estacionaridade(bg_box)"
   ]
  },
  {
   "cell_type": "code",
   "execution_count": null,
   "metadata": {},
   "outputs": [],
   "source": [
    "autocorrelation_plot(bg_box)\n",
    "plt.show()"
   ]
  },
  {
   "cell_type": "code",
   "execution_count": null,
   "metadata": {},
   "outputs": [],
   "source": [
    "# Plot do gráfico ACF\n",
    "plt.subplot(211)\n",
    "plot_acf(bg_box, ax=plt.gca(), lags=50)\n",
    "\n",
    "# Plot do gráfico PACF\n",
    "plt.subplot(212)\n",
    "plot_pacf(bg_box, ax=plt.gca(), lags=50)\n",
    "\n",
    "# Mostra os gráficos\n",
    "plt.show()"
   ]
  },
  {
   "cell_type": "code",
   "execution_count": null,
   "metadata": {},
   "outputs": [],
   "source": [
    "bg_diff = bg_box - bg_box.shift()\n",
    "bg_diff.dropna(inplace=True)"
   ]
  },
  {
   "cell_type": "code",
   "execution_count": null,
   "metadata": {},
   "outputs": [],
   "source": [
    "testa_estacionaridade(bg_diff)"
   ]
  },
  {
   "cell_type": "code",
   "execution_count": null,
   "metadata": {},
   "outputs": [],
   "source": [
    "autocorrelation_plot(bg_diff)\n",
    "plt.show()"
   ]
  },
  {
   "cell_type": "code",
   "execution_count": null,
   "metadata": {},
   "outputs": [],
   "source": [
    "# Plot do gráfico ACF\n",
    "plt.subplot(211)\n",
    "plot_acf(bg_diff, ax=plt.gca(), lags=50)\n",
    "\n",
    "# Plot do gráfico PACF\n",
    "plt.subplot(212)\n",
    "plot_pacf(bg_diff, ax=plt.gca(), lags=50, method='ols')\n",
    "\n",
    "# Mostra os gráficos\n",
    "plt.show()"
   ]
  },
  {
   "cell_type": "code",
   "execution_count": null,
   "metadata": {},
   "outputs": [],
   "source": [
    "# Divisão em treino e teste\n",
    "X = bg_diff\n",
    "train_size = int(len(X) * 0.75)\n",
    "train, test = X[0:train_size], X[train_size:]"
   ]
  },
  {
   "cell_type": "code",
   "execution_count": null,
   "metadata": {},
   "outputs": [],
   "source": [
    "# Função Para o Cálculo da Acurácia\n",
    "def performace(y_true, y_pred):\n",
    "    mse = ((y_pred - y_true)**2).mean()\n",
    "    mape = np.mean(np.abs((y_true - y_pred) / y_true)) * 100\n",
    "    return (print('MSE das previsões é {}'.format(round(mse, 2))+\n",
    "                  '\\nRMSE das previsões é {}'.format(round(np.sqrt(mse), 2))+\n",
    "                  '\\nMAPE das previsões é {}'.format(round(mape, 2))))"
   ]
  },
  {
   "cell_type": "code",
   "execution_count": null,
   "metadata": {},
   "outputs": [],
   "source": [
    "model = sm.tsa.SARIMAX(train, order=(0,0,1), seasonal_order=(0,1,1,12))\n",
    "model_fit = model.fit(disp=False)"
   ]
  },
  {
   "cell_type": "code",
   "execution_count": null,
   "metadata": {},
   "outputs": [],
   "source": [
    "fcast_len = len(test)\n",
    "fcast = model_fit.forecast(fcast_len)"
   ]
  },
  {
   "cell_type": "code",
   "execution_count": null,
   "metadata": {},
   "outputs": [],
   "source": [
    "pred = model_fit.get_prediction(start=pd.to_datetime('2014-09-30'), \n",
    "                                end=pd.to_datetime('2020-05-31'),\n",
    "                                dynamic=False)\n",
    "pred_ci = pred.conf_int()\n",
    "\n",
    "fig = go.Figure()\n",
    "fig.add_trace(go.Scatter(x=bg_diff.index, \n",
    "                         y=bg_diff,\n",
    "                         mode='lines',\n",
    "                         fillcolor= 'rgba(0,0,0,1)',\n",
    "                         name='Preços'))\n",
    "\n",
    "fig.add_trace(go.Scatter(x=fcast.index, \n",
    "                         y=fcast, \n",
    "                         mode='lines', \n",
    "                         name='Média'))\n",
    "\n",
    "fig.add_trace(go.Scatter(x=fcast.index, \n",
    "                         y=pred_ci.iloc[:, 0], \n",
    "                         mode='lines',\n",
    "                         fill='tozeroy', \n",
    "                         fillcolor='rgba(0,176,246,0.2)',\n",
    "                         line_color='rgba(255,255,255,0)',\n",
    "                         name='Desvio Padrão'))\n",
    "\n",
    "fig.add_trace(go.Scatter(x=fcast.index, \n",
    "                         y=pred_ci.iloc[:, 1], \n",
    "                         mode='lines',\n",
    "                         fill='tozeroy',\n",
    "                         fillcolor='rgba(0,176,246,0.2)',\n",
    "                         line_color='rgba(255,255,255,0)',\n",
    "                         name='Desvio Padrão'))\n",
    "\n",
    "fig.show()"
   ]
  },
  {
   "cell_type": "code",
   "execution_count": null,
   "metadata": {},
   "outputs": [],
   "source": [
    "# Vamos definir p, d e q para que tenham valores entre 0 e 2 e testaremos as combinações.\n",
    "p = d = q = range(0,2)\n",
    "\n",
    "# Lista de combinações de p, d, q\n",
    "pdq = list(itertools.product(p, d, q))\n",
    "\n",
    "# Lista de combinações dos hiperparâmetros sazonais P, D e Q\n",
    "# Estamos usando List Comprehension\n",
    "seasonal_pdq = [(x[0], x[1], x[2], 12) for x in (itertools.product(p, d, q))]"
   ]
  },
  {
   "cell_type": "code",
   "execution_count": null,
   "metadata": {},
   "outputs": [],
   "source": [
    "# Grid Search\n",
    "#warnings.filterwarnings(\"ignore\")\n",
    "\n",
    "# Menor valor possível para a estatística AIC (nosso objetivo na otimização do modelo)\n",
    "lowest_aic = sys.maxsize\n",
    "lowest = ''\n",
    "\n",
    "#Loop\n",
    "for param in pdq:\n",
    "    for param_seasonal in seasonal_pdq:\n",
    "        try:\n",
    "            \n",
    "            # Cria o modelo com a combinação dos hiperparâmetros\n",
    "            model = sm.tsa.statespace.SARIMAX(train, \n",
    "                                              order=param, \n",
    "                                              seasonal_order=param_seasonal, \n",
    "                                              enforce_stationarity=False, \n",
    "                                              enforce_invertibility=False)\n",
    "            \n",
    "            # Treina o modelo\n",
    "            results = model.fit()\n",
    "            \n",
    "            # Print\n",
    "            print('SARIMA{}x{}12 - AIC:{}'.format(param, param_seasonal, results.aic))\n",
    "            \n",
    "            # Coleta o menor valor de AIC\n",
    "            if lowest_aic > results.aic:\n",
    "                lowest = 'SARIMA{}x{}12 - AIC:{}'.format(param, param_seasonal, results.aic)\n",
    "                lowest_aic = results.aic\n",
    "                \n",
    "        except:\n",
    "            continue\n",
    "\n",
    "print (\"\\nModelo com Menor Valor de AIC: \" + lowest)"
   ]
  },
  {
   "cell_type": "code",
   "execution_count": null,
   "metadata": {},
   "outputs": [],
   "source": [
    "# Treina o modelo com a melhor combinação de hiperparâmetros\n",
    "sarima_best = sm.tsa.statespace.SARIMAX(train, \n",
    "                                        order=(1,0,1), \n",
    "                                        seasonal_order=(0,0,0,12), \n",
    "                                        enforce_stationarity=False,\n",
    "                                        enforce_invertibility=False)"
   ]
  },
  {
   "cell_type": "code",
   "execution_count": null,
   "metadata": {},
   "outputs": [],
   "source": [
    "# Treinamento (Fit) do modelo\n",
    "sarima_best_fit = sarima_best.fit()"
   ]
  },
  {
   "cell_type": "code",
   "execution_count": null,
   "metadata": {},
   "outputs": [],
   "source": [
    "# Sumário do modelo\n",
    "sarima_best_fit.summary()"
   ]
  },
  {
   "cell_type": "markdown",
   "metadata": {},
   "source": [
    "Nas próximas aulas vamos interpretar o sumário do modelo e comparar as versões dos modelos SARIMA que iremos criar. Mas perceba o valor de AIC. Conseguimos reduzí-lo de forma considerável e a única mudança foi a otimizaçã dos hiperparâmetros."
   ]
  },
  {
   "cell_type": "code",
   "execution_count": null,
   "metadata": {},
   "outputs": [],
   "source": [
    "# Diagnóstico do modelo\n",
    "sarima_best_fit.plot_diagnostics(lags=8)\n",
    "plt.show()"
   ]
  },
  {
   "cell_type": "code",
   "execution_count": null,
   "metadata": {},
   "outputs": [],
   "source": [
    "# Vamos fazer previsões um passo a frente\n",
    "sarima_best_pred = sarima_best_fit.get_prediction(start=('2014-09-30'), \n",
    "                                                  end=('2020-05-31'), \n",
    "                                                  dynamic=False)"
   ]
  },
  {
   "cell_type": "code",
   "execution_count": null,
   "metadata": {},
   "outputs": [],
   "source": [
    "# Intervalo de confiança\n",
    "int_conf = sarima_best_pred.conf_int()\n",
    "int_conf"
   ]
  },
  {
   "cell_type": "code",
   "execution_count": null,
   "metadata": {},
   "outputs": [],
   "source": [
    "# Plot dos valores observados\n",
    "ax = bg_diff.plot(label='Valores Observados')\n",
    "\n",
    "# Plot dos valores previstos\n",
    "sarima_best_pred.predicted_mean.plot(ax = ax, \n",
    "                                label = 'Previsões SARIMA (0, 0, 0)x(0, 1, 1, 12)', \n",
    "                                alpha = 0.7, \n",
    "                                color = 'red')\n",
    "\n",
    "# Plot do intervalo de confiança\n",
    "ax.fill_between(int_conf.index, \n",
    "                int_conf.iloc[:, 0], # lower sales\n",
    "                int_conf.iloc[:, 1], # upper sales\n",
    "                color = 'k', \n",
    "                alpha = 0.1)\n",
    "\n",
    "# Títulos e Legendas\n",
    "plt.title('Previsão de Vendas com Modelo ARIMA Sazonal')\n",
    "plt.xlabel('Data')\n",
    "plt.ylabel('Vendas de Produtos de Tecnologia')\n",
    "plt.legend()\n",
    "plt.show()"
   ]
  },
  {
   "cell_type": "code",
   "execution_count": null,
   "metadata": {},
   "outputs": [],
   "source": [
    "# Calculando a performance\n",
    "sarima_results = performace(test, sarima_best_pred.predicted_mean)\n",
    "sarima_results"
   ]
  },
  {
   "cell_type": "markdown",
   "metadata": {},
   "source": [
    "O erro do modelo aumentou um pouco, mas não podemos usar apenas uma medida para avaliar o modelo. Falaremos mais sobre isso nas aulas seguintes. Vejamos como o modelo se sai em um horizonte de previsão maior."
   ]
  },
  {
   "cell_type": "code",
   "execution_count": null,
   "metadata": {},
   "outputs": [],
   "source": [
    "# Forecast (previsão) de 60 passos no tempo\n",
    "sarima_forecast = sarima_best_fit.get_forecast(steps=80)"
   ]
  },
  {
   "cell_type": "code",
   "execution_count": null,
   "metadata": {},
   "outputs": [],
   "source": [
    "# Intervalo de confiança\n",
    "forecast_conf = sarima_forecast.conf_int()\n",
    "forecast_conf"
   ]
  },
  {
   "cell_type": "code",
   "execution_count": null,
   "metadata": {},
   "outputs": [],
   "source": [
    "# Plot dos valores observados\n",
    "ax = bg_diff.plot(label='Valores Observados')\n",
    "\n",
    "# Plot dos valores previstos\n",
    "sarima_forecast.predicted_mean.plot(ax = ax, \n",
    "                                    label = 'SARIMA Forecast')\n",
    "\n",
    "# Plot do intervalo de confiança\n",
    "ax.fill_between(forecast_conf.index, \n",
    "                forecast_conf.iloc[:, 0], # lower sales\n",
    "                forecast_conf.iloc[:, 1], # upper sales\n",
    "                color = 'k', \n",
    "                alpha = 0.1)\n",
    "\n",
    "# Títulos e Legendas\n",
    "plt.title('Previsão de Vendas com Modelo ARIMA Sazonal')\n",
    "plt.xlabel('Data')\n",
    "plt.ylabel('Vendas de Produtos de Tecnologia')\n",
    "plt.legend()\n",
    "plt.show()"
   ]
  },
  {
   "cell_type": "markdown",
   "metadata": {},
   "source": [
    "Por que a área cinza aumenta? Porque quanto maior o horizonte de previsão, maior a incerteza das previsões. Veja que estamos fazendo previsões de vendas para 5 anos (60 passos no tempo em nossa série), o que aumenta a incerteza a cada novo passo de tempo previsto."
   ]
  },
  {
   "cell_type": "code",
   "execution_count": null,
   "metadata": {},
   "outputs": [],
   "source": [
    "# Teste de Ljung-Box\n",
    "resultado_teste = sms.diagnostic.acorr_ljungbox(sarima_best_fit.resid, lags = [12], boxpierce = False)\n",
    "print('Valor-p =', resultado_teste[1])"
   ]
  },
  {
   "cell_type": "code",
   "execution_count": null,
   "metadata": {},
   "outputs": [],
   "source": []
  },
  {
   "cell_type": "code",
   "execution_count": null,
   "metadata": {},
   "outputs": [],
   "source": []
  },
  {
   "cell_type": "code",
   "execution_count": null,
   "metadata": {},
   "outputs": [],
   "source": []
  }
 ],
 "metadata": {
  "kernelspec": {
   "display_name": "Python 3",
   "language": "python",
   "name": "python3"
  },
  "language_info": {
   "codemirror_mode": {
    "name": "ipython",
    "version": 3
   },
   "file_extension": ".py",
   "mimetype": "text/x-python",
   "name": "python",
   "nbconvert_exporter": "python",
   "pygments_lexer": "ipython3",
   "version": "3.7.7"
  }
 },
 "nbformat": 4,
 "nbformat_minor": 4
}
